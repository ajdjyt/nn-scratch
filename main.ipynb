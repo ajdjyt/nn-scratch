{
 "cells": [
  {
   "cell_type": "code",
   "execution_count": 1,
   "metadata": {},
   "outputs": [],
   "source": [
    "import torch \n",
    "import numpy as np\n",
    "import pandas as pd"
   ]
  },
  {
   "cell_type": "code",
   "execution_count": 5,
   "metadata": {},
   "outputs": [],
   "source": [
    "inputs = torch.tensor(\n",
    "    [[1, 2, 3, 2.5],\n",
    "     [2.0, 5.0, -1.0, 2.0],\n",
    "     [-1.5, 2.7, 3.3, -0.8]],\n",
    "    dtype=torch.float32\n",
    ")\n",
    "\n",
    "weights = torch.tensor(\n",
    "    [[0.2, 0.8, -0.5, 1.0],\n",
    "    [0.5, -0.91, 0.26, -0.5],\n",
    "    [-0.26, -0.27, 0.17, 0.87]],\n",
    "    dtype=torch.float32\n",
    ")\n",
    "\n",
    "biases = torch.tensor(\n",
    "    [2.0,3.0,0.5],\n",
    "    dtype=torch.float32\n",
    ")"
   ]
  },
  {
   "cell_type": "code",
   "execution_count": 6,
   "metadata": {},
   "outputs": [
    {
     "data": {
      "text/plain": [
       "[tensor([4.5500, 5.0500, 0.1500, 4.5000]),\n",
       " tensor([1.2900, 0.1520, 6.2680, 2.2220]),\n",
       " tensor([-0.5550, -0.9110,  0.5510, -0.8260])]"
      ]
     },
     "execution_count": 6,
     "metadata": {},
     "output_type": "execute_result"
    }
   ],
   "source": [
    "def layer(inputs, weights, biases):\n",
    "    \"\"\"Pure python NN Layer\n",
    "\n",
    "    Args:\n",
    "        inputs (list): inputs from previous layer\n",
    "        weights (list): weights of each neuron in layer\n",
    "        biases (list): biases of each neuron in layer\n",
    "\n",
    "    Returns:\n",
    "        list: output of each neuron in layer \n",
    "    \"\"\"\n",
    "    layer_outputs = []    \n",
    "    for neuron_weights, neuron_bias in zip(weights, biases):\n",
    "        neuron_output=0\n",
    "        for n_input, weight in zip(inputs, neuron_weights):\n",
    "            neuron_output += n_input*weight\n",
    "        neuron_output +=neuron_bias\n",
    "        layer_outputs.append(neuron_output)\n",
    "    return layer_outputs\n",
    "\n",
    "layer(inputs, weights, biases)"
   ]
  },
  {
   "cell_type": "code",
   "execution_count": 7,
   "metadata": {},
   "outputs": [],
   "source": [
    "def layer_vec(inputs, weights, biases):\n",
    "    \"\"\"PyTorch vectorized NN Layer\n",
    "\n",
    "    Args:\n",
    "        inputs (torch.tensor): inputs from previous layer\n",
    "        weights (torch.tensor): weights of each neuron in layer\n",
    "        biases (torch.tensor): biases of each neuron in layer\n",
    "\n",
    "    Returns:\n",
    "        torch.tensor: output of each neuron in layer \n",
    "    \"\"\"\n",
    "    cummulative = torch.matmul(inputs, weights.T) + biases\n",
    "    return cummulative"
   ]
  },
  {
   "cell_type": "code",
   "execution_count": 8,
   "metadata": {},
   "outputs": [
    {
     "data": {
      "text/plain": [
       "tensor([[ 4.8000,  1.2100,  2.3850],\n",
       "        [ 8.9000, -1.8100,  0.2000],\n",
       "        [ 1.4100,  1.0510,  0.0260]])"
      ]
     },
     "execution_count": 8,
     "metadata": {},
     "output_type": "execute_result"
    }
   ],
   "source": [
    "layer_vec(inputs, weights, biases)"
   ]
  }
 ],
 "metadata": {
  "kernelspec": {
   "display_name": "torch-3-12",
   "language": "python",
   "name": "python3"
  },
  "language_info": {
   "codemirror_mode": {
    "name": "ipython",
    "version": 3
   },
   "file_extension": ".py",
   "mimetype": "text/x-python",
   "name": "python",
   "nbconvert_exporter": "python",
   "pygments_lexer": "ipython3",
   "version": "3.12.2"
  }
 },
 "nbformat": 4,
 "nbformat_minor": 2
}
