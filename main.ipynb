{
 "cells": [
  {
   "cell_type": "code",
   "execution_count": 1,
   "metadata": {},
   "outputs": [],
   "source": [
    "import torch \n",
    "import numpy as np\n",
    "import pandas as pd"
   ]
  },
  {
   "cell_type": "code",
   "execution_count": 16,
   "metadata": {},
   "outputs": [
    {
     "data": {
      "text/plain": [
       "[tensor(9), tensor(28), tensor(47)]"
      ]
     },
     "execution_count": 16,
     "metadata": {},
     "output_type": "execute_result"
    }
   ],
   "source": [
    "inputs = torch.tensor([1,2,3])\n",
    "weights = torch.arange(9).reshape((3,3))\n",
    "biases = torch.tensor([1,2,3])\n",
    "\n",
    "def layer(inputs, weights, biases):\n",
    "    \"\"\"Pure python NN Layer\n",
    "\n",
    "    Args:\n",
    "        inputs (list): inputs from previous layer\n",
    "        weights (list): weights of each neuron in layer\n",
    "        biases (list): biases of each neuron in layer\n",
    "\n",
    "    Returns:\n",
    "        list: output of each neuron in layer \n",
    "    \"\"\"\n",
    "    layer_outputs = []    \n",
    "    for neuron_weights, neuron_bias in zip(weights, biases):\n",
    "        neuron_output=0\n",
    "        for n_input, weight in zip(inputs, neuron_weights):\n",
    "            neuron_output += n_input*weight\n",
    "        neuron_output +=neuron_bias\n",
    "        layer_outputs.append(neuron_output)\n",
    "    return layer_outputs\n",
    "\n",
    "layer(inputs, weights, biases)"
   ]
  },
  {
   "cell_type": "code",
   "execution_count": 14,
   "metadata": {},
   "outputs": [],
   "source": [
    "def layer_vec(inputs, weights, biases):\n",
    "    \"\"\"PyTorch vectorized NN Layer\n",
    "\n",
    "    Args:\n",
    "        inputs (torch.tensor): inputs from previous layer\n",
    "        weights (torch.tensor): weights of each neuron in layer\n",
    "        biases (torch.tensor): biases of each neuron in layer\n",
    "\n",
    "    Returns:\n",
    "        torch.tensor: output of each neuron in layer \n",
    "    \"\"\"\n",
    "    cummulative = torch.matmul(weights, inputs) + biases\n",
    "    return cummulative"
   ]
  },
  {
   "cell_type": "code",
   "execution_count": 17,
   "metadata": {},
   "outputs": [
    {
     "data": {
      "text/plain": [
       "tensor([ 9, 28, 47])"
      ]
     },
     "execution_count": 17,
     "metadata": {},
     "output_type": "execute_result"
    }
   ],
   "source": [
    "layer_vec(inputs, weights, biases)"
   ]
  }
 ],
 "metadata": {
  "kernelspec": {
   "display_name": "torch-3-12",
   "language": "python",
   "name": "python3"
  },
  "language_info": {
   "codemirror_mode": {
    "name": "ipython",
    "version": 3
   },
   "file_extension": ".py",
   "mimetype": "text/x-python",
   "name": "python",
   "nbconvert_exporter": "python",
   "pygments_lexer": "ipython3",
   "version": "3.12.2"
  }
 },
 "nbformat": 4,
 "nbformat_minor": 2
}
