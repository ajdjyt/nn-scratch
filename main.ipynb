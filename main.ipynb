{
 "cells": [
  {
   "cell_type": "code",
   "execution_count": 1,
   "metadata": {},
   "outputs": [],
   "source": [
    "import torch \n",
    "import numpy as np\n",
    "import pandas as pd"
   ]
  },
  {
   "cell_type": "code",
   "execution_count": 5,
   "metadata": {},
   "outputs": [],
   "source": [
    "inputs1 = torch.tensor(\n",
    "    [[1, 2, 3, 2.5],\n",
    "     [2.0, 5.0, -1.0, 2.0],\n",
    "     [-1.5, 2.7, 3.3, -0.8]],\n",
    "    dtype=torch.float32\n",
    ")\n",
    "\n",
    "weights1 = torch.tensor(\n",
    "    [[0.2, 0.8, -0.5, 1.0],\n",
    "    [0.5, -0.91, 0.26, -0.5],\n",
    "    [-0.26, -0.27, 0.17, 0.87]],\n",
    "    dtype=torch.float32\n",
    ")\n",
    "\n",
    "biases1 = torch.tensor(\n",
    "    [2.0,3.0,0.5],\n",
    "    dtype=torch.float32\n",
    ")"
   ]
  },
  {
   "cell_type": "code",
   "execution_count": 16,
   "metadata": {},
   "outputs": [
    {
     "data": {
      "text/plain": [
       "[[4.80000002682209, 1.209999918937683, 2.385000005364418],\n",
       " [8.90000006556511, -1.8100001215934753, 0.19999997317790985],\n",
       " [1.410000077784062, 1.0509998478889457, 0.025999927461146655]]"
      ]
     },
     "execution_count": 16,
     "metadata": {},
     "output_type": "execute_result"
    }
   ],
   "source": [
    "def layer(inputs:list, weights:list, biases:list) -> list:\n",
    "    \"\"\"Pure python NN Layer\n",
    "\n",
    "    Args:\n",
    "        inputs (list): inputs from previous layer\n",
    "        weights (list): weights of each neuron in layer\n",
    "        biases (list): biases of each neuron in layer\n",
    "\n",
    "    Returns:\n",
    "        list: output of each neuron in layer \n",
    "    \"\"\"\n",
    "    layer_outputs = []\n",
    "    for neuron_input in inputs:\n",
    "        neuron_output = []\n",
    "        for neuron_weights, neuron_bias in zip(weights, biases):\n",
    "            output_vals = 0\n",
    "            for n_input, weight in zip(neuron_input, neuron_weights):\n",
    "                output_vals += n_input*weight\n",
    "            output_vals += neuron_bias\n",
    "            neuron_output.append(output_vals)\n",
    "        layer_outputs.append(neuron_output)\n",
    "    return layer_outputs\n",
    "\n",
    "layer(inputs1.tolist(), weights1.tolist(), biases1.tolist())"
   ]
  },
  {
   "cell_type": "code",
   "execution_count": 7,
   "metadata": {},
   "outputs": [],
   "source": [
    "def layer_vec(inputs:torch.tensor, weights:torch.tensor, biases:torch.tensor):\n",
    "    \"\"\"PyTorch vectorized NN Layer\n",
    "\n",
    "    Args:\n",
    "        inputs (torch.tensor): inputs from previous layer\n",
    "        weights (torch.tensor): weights of each neuron in layer\n",
    "        biases (torch.tensor): biases of each neuron in layer\n",
    "\n",
    "    Returns:\n",
    "        torch.tensor: output of each neuron in layer \n",
    "    \"\"\"\n",
    "    cummulative = torch.matmul(inputs, weights.T) + biases\n",
    "    return cummulative"
   ]
  },
  {
   "cell_type": "code",
   "execution_count": 8,
   "metadata": {},
   "outputs": [
    {
     "data": {
      "text/plain": [
       "tensor([[ 4.8000,  1.2100,  2.3850],\n",
       "        [ 8.9000, -1.8100,  0.2000],\n",
       "        [ 1.4100,  1.0510,  0.0260]])"
      ]
     },
     "execution_count": 8,
     "metadata": {},
     "output_type": "execute_result"
    }
   ],
   "source": [
    "output1 = layer_vec(inputs1, weights1, biases1)"
   ]
  },
  {
   "cell_type": "markdown",
   "metadata": {},
   "source": [
    "# Multi layer implementation "
   ]
  },
  {
   "cell_type": "code",
   "execution_count": 36,
   "metadata": {},
   "outputs": [],
   "source": [
    "X = torch.tensor(\n",
    "    [[1, 2, 3, 2.5],\n",
    "     [2.0, 5.0, -1.0, 2.0],\n",
    "     [-1.5, 2.7, 3.3, -0.8]],\n",
    "    dtype=torch.float32\n",
    ")\n",
    "\n",
    "class Layer_Dense:\n",
    "    def __init__(self, n_inputs:int, n_neurons:int):\n",
    "        self.weights = torch.randn(n_inputs, n_neurons)\n",
    "        self.biases = torch.zeros((1, n_neurons))\n",
    "    def forward(self, inputs:torch.tensor):\n",
    "        self.output = torch.matmul(inputs, self.weights) + self.biases"
   ]
  },
  {
   "cell_type": "code",
   "execution_count": 45,
   "metadata": {},
   "outputs": [],
   "source": [
    "L1 = Layer_Dense(4, 5)\n",
    "L2 = Layer_Dense(5, 2)"
   ]
  },
  {
   "cell_type": "code",
   "execution_count": 46,
   "metadata": {},
   "outputs": [
    {
     "name": "stdout",
     "output_type": "stream",
     "text": [
      "tensor([[-0.5100, -3.8524, -6.8966, -2.6354, -2.8712],\n",
      "        [ 0.2910, -2.1024, -7.7058,  3.5387, -7.5256],\n",
      "        [ 6.8566, -0.0754, -4.4648, -0.6942, -3.4342]])\n",
      "tensor([[  0.2450, -16.0456],\n",
      "        [  3.8542, -16.7942],\n",
      "        [  5.5154,  -8.7893]])\n"
     ]
    }
   ],
   "source": [
    "L1.forward(X)\n",
    "print(L1.output)\n",
    "L2.forward(L1.output)\n",
    "print(L2.output)"
   ]
  },
  {
   "cell_type": "code",
   "execution_count": null,
   "metadata": {},
   "outputs": [],
   "source": []
  }
 ],
 "metadata": {
  "kernelspec": {
   "display_name": "torch-3-12",
   "language": "python",
   "name": "python3"
  },
  "language_info": {
   "codemirror_mode": {
    "name": "ipython",
    "version": 3
   },
   "file_extension": ".py",
   "mimetype": "text/x-python",
   "name": "python",
   "nbconvert_exporter": "python",
   "pygments_lexer": "ipython3",
   "version": "3.12.2"
  }
 },
 "nbformat": 4,
 "nbformat_minor": 2
}
