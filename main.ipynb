{
 "cells": [
  {
   "cell_type": "code",
   "execution_count": 1,
   "metadata": {},
   "outputs": [],
   "source": [
    "import torch \n",
    "import numpy as np\n",
    "import pandas as pd"
   ]
  },
  {
   "cell_type": "code",
   "execution_count": 2,
   "metadata": {},
   "outputs": [],
   "source": [
    "inputs1 = torch.tensor(\n",
    "    [[1, 2, 3, 2.5],\n",
    "     [2.0, 5.0, -1.0, 2.0],\n",
    "     [-1.5, 2.7, 3.3, -0.8]],\n",
    "    dtype=torch.float32\n",
    ")\n",
    "\n",
    "weights1 = torch.tensor(\n",
    "    [[0.2, 0.8, -0.5, 1.0],\n",
    "    [0.5, -0.91, 0.26, -0.5],\n",
    "    [-0.26, -0.27, 0.17, 0.87]],\n",
    "    dtype=torch.float32\n",
    ")\n",
    "\n",
    "biases1 = torch.tensor(\n",
    "    [2.0,3.0,0.5],\n",
    "    dtype=torch.float32\n",
    ")"
   ]
  },
  {
   "cell_type": "code",
   "execution_count": 3,
   "metadata": {},
   "outputs": [
    {
     "data": {
      "text/plain": [
       "[[4.80000002682209, 1.209999918937683, 2.385000005364418],\n",
       " [8.90000006556511, -1.8100001215934753, 0.19999997317790985],\n",
       " [1.410000077784062, 1.0509998478889457, 0.025999927461146655]]"
      ]
     },
     "execution_count": 3,
     "metadata": {},
     "output_type": "execute_result"
    }
   ],
   "source": [
    "def layer(inputs:list, weights:list, biases:list) -> list:\n",
    "    \"\"\"Pure python NN Layer\n",
    "\n",
    "    Args:\n",
    "        inputs (list): inputs from previous layer\n",
    "        weights (list): weights of each neuron in layer\n",
    "        biases (list): biases of each neuron in layer\n",
    "\n",
    "    Returns:\n",
    "        list: output of each neuron in layer \n",
    "    \"\"\"\n",
    "    layer_outputs = []\n",
    "    for neuron_input in inputs:\n",
    "        neuron_output = []\n",
    "        for neuron_weights, neuron_bias in zip(weights, biases):\n",
    "            output_vals = 0\n",
    "            for n_input, weight in zip(neuron_input, neuron_weights):\n",
    "                output_vals += n_input*weight\n",
    "            output_vals += neuron_bias\n",
    "            neuron_output.append(output_vals)\n",
    "        layer_outputs.append(neuron_output)\n",
    "    return layer_outputs\n",
    "\n",
    "layer(inputs1.tolist(), weights1.tolist(), biases1.tolist())"
   ]
  },
  {
   "cell_type": "code",
   "execution_count": 4,
   "metadata": {},
   "outputs": [],
   "source": [
    "def layer_vec(inputs:torch.tensor, weights:torch.tensor, biases:torch.tensor):\n",
    "    \"\"\"\n",
    "        PyTorch vectorized NN Layer\n",
    "\n",
    "    Args:\n",
    "        inputs (torch.tensor): inputs from previous layer\n",
    "        weights (torch.tensor): weights of each neuron in layer\n",
    "        biases (torch.tensor): biases of each neuron in layer\n",
    "\n",
    "    Returns:\n",
    "        torch.tensor: output of each neuron in layer \n",
    "    \"\"\"\n",
    "    cummulative = torch.matmul(inputs, weights.T) + biases\n",
    "    return cummulative"
   ]
  },
  {
   "cell_type": "code",
   "execution_count": 5,
   "metadata": {},
   "outputs": [],
   "source": [
    "output1 = layer_vec(inputs1, weights1, biases1)"
   ]
  },
  {
   "cell_type": "markdown",
   "metadata": {},
   "source": [
    "# Multi layer implementation "
   ]
  },
  {
   "cell_type": "code",
   "execution_count": 6,
   "metadata": {},
   "outputs": [],
   "source": [
    "X = torch.tensor(\n",
    "    [[1, 2, 3, 2.5],\n",
    "     [2.0, 5.0, -1.0, 2.0],\n",
    "     [-1.5, 2.7, 3.3, -0.8]],\n",
    "    dtype=torch.float32\n",
    ")\n",
    "\n",
    "class Layer_Dense:\n",
    "    \"\"\" \n",
    "        PyTorch Vectorized Dense Layer \n",
    "    \"\"\"\n",
    "    def __init__(self, n_inputs:int, n_neurons:int):\n",
    "        self.weights = torch.randn(n_inputs, n_neurons)\n",
    "        self.biases = torch.zeros((1, n_neurons))\n",
    "    def forward(self, inputs:torch.tensor):\n",
    "        self.output = torch.matmul(inputs, self.weights) + self.biases"
   ]
  },
  {
   "cell_type": "code",
   "execution_count": 7,
   "metadata": {},
   "outputs": [],
   "source": [
    "L1 = Layer_Dense(4, 5)\n",
    "L2 = Layer_Dense(5, 2)"
   ]
  },
  {
   "cell_type": "code",
   "execution_count": 8,
   "metadata": {},
   "outputs": [
    {
     "name": "stdout",
     "output_type": "stream",
     "text": [
      "tensor([[ -2.9199,  -2.6472,   3.2969,  -3.4138,  -3.4666],\n",
      "        [ -4.9482, -12.7343,  10.4805,  -7.3007,  -5.6835],\n",
      "        [ -4.0061,   1.2792,   1.5337,   2.5904,   0.5797]])\n",
      "tensor([[ -0.1208,  -1.5071],\n",
      "        [ -1.4471, -16.7694],\n",
      "        [ -9.8005,   2.6682]])\n"
     ]
    }
   ],
   "source": [
    "L1.forward(X)\n",
    "print(L1.output)\n",
    "L2.forward(L1.output)\n",
    "print(L2.output)"
   ]
  },
  {
   "cell_type": "code",
   "execution_count": 9,
   "metadata": {},
   "outputs": [
    {
     "name": "stdout",
     "output_type": "stream",
     "text": [
      "Input shape:[3, 4] --L1[4,5]--> [3, 5]\n",
      "Input shape:[3, 5] --L2[5,2]--> [3, 2]\n"
     ]
    }
   ],
   "source": [
    "X.shape, L1.output.shape, L2.output.shape\n",
    "print(f\"Input shape:{list(X.shape)} --L1[4,5]--> {list(L1.output.shape)}\")\n",
    "print(f\"Input shape:{list(L1.output.shape)} --L2[5,2]--> {list(L2.output.shape)}\")"
   ]
  },
  {
   "cell_type": "markdown",
   "metadata": {},
   "source": [
    "# Adding activation functions"
   ]
  },
  {
   "cell_type": "code",
   "execution_count": 10,
   "metadata": {},
   "outputs": [],
   "source": [
    "class Activation:\n",
    "    \"\"\"\n",
    "        PyTorch Vectorized Activation functions class\n",
    "    \"\"\"\n",
    "    def __init__(self, name:str):\n",
    "        if not hasattr(self, name):\n",
    "            raise ValueError(f\"Activation {name} is not defined.\")\n",
    "        self.activation = getattr(self, name)\n",
    "    def ReLU(self, X:torch.tensor) -> torch.tensor:\n",
    "        return torch.maximum(torch.zeros_like(X), X)\n",
    "\n",
    "    def sigmoid(self, X:torch.tensor) -> torch.tensor:\n",
    "        return 1/(1-torch.exp(-1*X))\n",
    "\n",
    "    def LeakyReLU(self, X:torch.tensor) -> torch.tensor:\n",
    "        return torch.maximum(0.01*X, X)\n",
    "    \n",
    "    def Linear(self, X:torch.tensor) -> torch.tensor:\n",
    "        return X\n",
    "    \n",
    "    def Softmax(self, X:torch.tensor) -> torch.tensor:\n",
    "        exp_vals = torch.exp(X - torch.max(X, dim=1, keepdims=True))\n",
    "        return exp_vals / torch.sum(exp_vals, dim=1, keepdims=True)"
   ]
  },
  {
   "cell_type": "code",
   "execution_count": 11,
   "metadata": {},
   "outputs": [],
   "source": [
    "from typing import Optional\n",
    "\n",
    "class Linear:\n",
    "    def forward(self, X:torch.tensor) -> torch.tensor:\n",
    "        return X\n",
    "\n",
    "class Sigmoid:\n",
    "     def forward(self, X:torch.tensor) -> torch.tensor:\n",
    "        self.output = 1/(1-torch.exp(-1*X))\n",
    "\n",
    "class ReLU:\n",
    "    def forward(self, X:torch.tensor):\n",
    "        self.output = torch.maximum(torch.zeros_like(X), X)\n",
    "        \n",
    "class LeakyReLU:\n",
    "    def forward(self, X:torch.tensor) -> torch.tensor:\n",
    "        return torch.maximum(0.01*X, X)\n",
    "\n",
    "class Softmax:\n",
    "    __constants__ = ['dim']\n",
    "    dim: Optional[int]\n",
    "\n",
    "    def __init__(self, dim:int):\n",
    "        self.dim = dim\n",
    "    \n",
    "    def forward(self, X: torch.tensor) -> torch.tensor:\n",
    "        exp_vals = torch.exp(X - torch.max(X, dim=self.dim, keepdims=True))\n",
    "        return exp_vals / torch.sum(exp_vals, dim=self.dim, keepdims=True)"
   ]
  },
  {
   "cell_type": "code",
   "execution_count": 12,
   "metadata": {},
   "outputs": [],
   "source": [
    "class Layer_Dense_act:\n",
    "    \"\"\" \n",
    "        PyTorch Vectorized Dense Layer with activation functions\n",
    "    \"\"\"\n",
    "    def __init__(self, n_inputs:int, n_neurons:int, activation_name:str):\n",
    "        self.weights = torch.randn(n_inputs, n_neurons) \n",
    "        self.biases = torch.zeros((1, n_neurons))\n",
    "        self.activation = Activation(activation_name).activation\n",
    "    def forward(self, inputs:torch.tensor):\n",
    "        self.output = self.activation(\n",
    "            torch.matmul(inputs, self.weights) + self.biases\n",
    "            )"
   ]
  },
  {
   "cell_type": "code",
   "execution_count": 13,
   "metadata": {},
   "outputs": [
    {
     "data": {
      "text/plain": [
       "<function matplotlib.pyplot.show(close=None, block=None)>"
      ]
     },
     "execution_count": 13,
     "metadata": {},
     "output_type": "execute_result"
    },
    {
     "data": {
      "image/png": "[encoded data removed]",
      "text/plain": [
       "<Figure size 640x480 with 1 Axes>"
      ]
     },
     "metadata": {},
     "output_type": "display_data"
    }
   ],
   "source": [
    "!pip install -qU nnfs\n",
    "from nnfs.datasets import spiral_data\n",
    "\n",
    "from matplotlib import pyplot as plt\n",
    "torch.random.seed()\n",
    "X,y = spiral_data(100,3)\n",
    "X,y = torch.tensor(X, dtype=torch.float32), torch.tensor(y, dtype=torch.float32)\n",
    "plt.scatter(X[:,0], X[:,1])\n",
    "plt.show"
   ]
  },
  {
   "cell_type": "code",
   "execution_count": 14,
   "metadata": {},
   "outputs": [],
   "source": [
    "class Activation_ReLU:\n",
    "    def forward(self, inputs:torch.tensor):\n",
    "        print(type(inputs))\n",
    "        self.output = torch.maximum(torch.zeros_like(inputs), inputs)"
   ]
  },
  {
   "cell_type": "code",
   "execution_count": 15,
   "metadata": {},
   "outputs": [
    {
     "name": "stdout",
     "output_type": "stream",
     "text": [
      "<class 'torch.Tensor'>\n",
      "tensor([[ 0.0000e+00,  0.0000e+00,  0.0000e+00,  0.0000e+00,  0.0000e+00],\n",
      "        [-2.6922e-03, -8.3299e-03,  1.7787e-02,  3.1034e-02,  3.1501e-03],\n",
      "        [-2.7517e-03, -8.7318e-03,  2.9522e-02,  6.4587e-02,  1.4395e-02],\n",
      "        ...,\n",
      "        [-2.2163e-01, -6.7456e-01,  8.8255e-01,  8.6918e-01, -3.1383e-01],\n",
      "        [-2.6270e-01, -8.1307e-01,  1.7481e+00,  3.0644e+00,  3.1965e-01],\n",
      "        [-1.8310e-01, -5.7488e-01,  1.6450e+00,  3.3721e+00,  6.4318e-01]])\n",
      "tensor([[0.0000e+00, 0.0000e+00, 0.0000e+00, 0.0000e+00, 0.0000e+00],\n",
      "        [0.0000e+00, 0.0000e+00, 1.7787e-02, 3.1034e-02, 3.1501e-03],\n",
      "        [0.0000e+00, 0.0000e+00, 2.9522e-02, 6.4587e-02, 1.4395e-02],\n",
      "        ...,\n",
      "        [0.0000e+00, 0.0000e+00, 8.8255e-01, 8.6918e-01, 0.0000e+00],\n",
      "        [0.0000e+00, 0.0000e+00, 1.7481e+00, 3.0644e+00, 3.1965e-01],\n",
      "        [0.0000e+00, 0.0000e+00, 1.6450e+00, 3.3721e+00, 6.4318e-01]])\n"
     ]
    }
   ],
   "source": [
    "L1 = Layer_Dense(2, 5)\n",
    "activation1 = Activation_ReLU()\n",
    "L1.forward(X)\n",
    "activation1.forward(L1.output)\n",
    "print(L1.output)\n",
    "print(activation1.output)"
   ]
  },
  {
   "cell_type": "code",
   "execution_count": 16,
   "metadata": {},
   "outputs": [
    {
     "name": "stdout",
     "output_type": "stream",
     "text": [
      "tensor([[ 0.0000e+00,  0.0000e+00,  0.0000e+00,  0.0000e+00,  0.0000e+00],\n",
      "        [ 4.5255e-03, -7.5830e-03, -1.5900e-03,  1.4750e-03, -7.6146e-03],\n",
      "        [-1.0307e-02, -2.1861e-02, -5.2370e-05, -1.4074e-02, -2.4539e-03],\n",
      "        ...,\n",
      "        [ 1.1384e+00,  9.9448e-02, -2.1156e-01,  9.2058e-01, -9.0015e-01],\n",
      "        [ 4.2521e-01, -7.5543e-01, -1.5343e-01,  1.2683e-01, -7.3718e-01],\n",
      "        [-2.6534e-01, -1.0573e+00, -4.7772e-02, -4.9775e-01, -3.1334e-01]])\n",
      "tensor([[0.0000e+00, 0.0000e+00, 0.0000e+00, 0.0000e+00, 0.0000e+00],\n",
      "        [5.3077e-04, 0.0000e+00, 0.0000e+00, 0.0000e+00, 6.9782e-03],\n",
      "        [0.0000e+00, 0.0000e+00, 0.0000e+00, 8.5717e-03, 1.0823e-03],\n",
      "        ...,\n",
      "        [2.6146e-01, 0.0000e+00, 0.0000e+00, 0.0000e+00, 8.8476e-01],\n",
      "        [4.7133e-02, 0.0000e+00, 0.0000e+00, 0.0000e+00, 6.7429e-01],\n",
      "        [0.0000e+00, 0.0000e+00, 0.0000e+00, 1.4445e-01, 2.4238e-01]])\n"
     ]
    }
   ],
   "source": [
    "L0 = Layer_Dense_act(2, 5, 'Linear')\n",
    "L0.forward(X)\n",
    "print(L0.output)\n",
    "L1 = Layer_Dense_act(2, 5, 'ReLU')\n",
    "L1.forward(X)\n",
    "print(L1.output)"
   ]
  },
  {
   "cell_type": "markdown",
   "metadata": {},
   "source": [
    "### Note: The values for both functions are different due to the random initilalization of weights\n",
    "I have validated this by initializing weights with 1 and noting that the values were the same\n",
    "going hence forth my way of implementing activation functions will be used"
   ]
  },
  {
   "cell_type": "code",
   "execution_count": 17,
   "metadata": {},
   "outputs": [],
   "source": [
    "class Loss:\n",
    "    \"\"\"\n",
    "        Base Loss function typed for PyTorch\n",
    "    \"\"\"\n",
    "    def calculate(self, X:torch.tensor, Y:torch.tensor) -> torch.tensor:\n",
    "        sample_losses = self.forward(X, Y)\n",
    "        data_loss = torch.mean(sample_losses)\n",
    "        return data_loss\n",
    "\n",
    "\n",
    "class CategoricalCE(Loss):\n",
    "    \"\"\"\n",
    "        PyTorch Vectorized Categorical Cross Entropy loss class\n",
    "    \"\"\"\n",
    "    def forward(self, y_pred:torch.tensor, Y:torch.tensor) -> torch.tensor:\n",
    "        samples = len(y_pred)\n",
    "        y_pred_clipped = torch.clip(y_pred, 1e-7, 1-1e-7)\n",
    "        if len(Y.shape) == 1: # Scalar values\n",
    "            correct_confidences = y_pred_clipped[range(samples), Y]\n",
    "        elif len(Y.shape) == 2: # One hot encoded\n",
    "            correct_confidences = torch.sum(y_pred_clipped*Y, dim=1)\n",
    "        return -torch.log(correct_confidences)"
   ]
  },
  {
   "cell_type": "markdown",
   "metadata": {},
   "source": [
    "## one hot encoding\n",
    "```python\n",
    "arr = zeros(number of target classes)\n",
    "arr[target class for sample] = 1\n",
    "```"
   ]
  },
  {
   "cell_type": "markdown",
   "metadata": {},
   "source": [
    "## sparse encoding\n",
    "classes - a-0, b-1, c-2"
   ]
  },
  {
   "cell_type": "markdown",
   "metadata": {},
   "source": [
    "```"
   ]
  },
  {
   "cell_type": "markdown",
   "metadata": {},
   "source": [
    "## An in action example of Categorical Cross Entropy Loss"
   ]
  },
  {
   "cell_type": "code",
   "execution_count": 257,
   "metadata": {},
   "outputs": [
    {
     "name": "stdout",
     "output_type": "stream",
     "text": [
      "tensor([[-0.6459,  0.1618,  0.9267, -0.4749],\n",
      "        [ 1.5495,  0.4366, -0.0765, -0.5429],\n",
      "        [ 0.1215,  0.0348,  0.6726, -1.3743]])\n",
      "tensor([[0., 1., 0., 0.],\n",
      "        [0., 0., 0., 1.],\n",
      "        [0., 0., 1., 0.]])\n",
      "tensor([ 1.8212, 16.1181,  0.3966])\n",
      "tensor(6.1119)\n"
     ]
    }
   ],
   "source": [
    "n_classes = 4\n",
    "n_samples = 3\n",
    "y_pred = torch.randn(n_samples,n_classes)\n",
    "targets = torch.randint(0,n_classes,(n_samples,))\n",
    "def one_hot(i,n):\n",
    "    x = torch.zeros(n).tolist()\n",
    "    x[i.item()]=1\n",
    "    return x\n",
    "y = torch.tensor([one_hot(torch.randint(0,n_classes,(1,)),n_classes) for i in range(n_samples)], dtype=torch.float32)\n",
    "\n",
    "print(y_pred)\n",
    "print(y)\n",
    "\n",
    "y_pred_clipped = torch.clip(y_pred, 1e-7, 1-1e-7)\n",
    "correct_confidences = torch.sum(y_pred_clipped*y, dim=1)\n",
    "negative_log_likelihood_estimates = -torch.log(correct_confidences)\n",
    "\n",
    "print(negative_log_likelihood_estimates)\n",
    "\n",
    "mean_loss = torch.mean(negative_log_likelihood_estimates)\n",
    "\n",
    "print(mean_loss)"
   ]
  }
 ],
 "metadata": {
  "kernelspec": {
   "display_name": "torch-3-12",
   "language": "python",
   "name": "python3"
  },
  "language_info": {
   "codemirror_mode": {
    "name": "ipython",
    "version": 3
   },
   "file_extension": ".py",
   "mimetype": "text/x-python",
   "name": "python",
   "nbconvert_exporter": "python",
   "pygments_lexer": "ipython3",
   "version": "3.12.2"
  }
 },
 "nbformat": 4,
 "nbformat_minor": 2
}
