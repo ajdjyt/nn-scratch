{
 "cells": [
  {
   "cell_type": "code",
   "execution_count": 1,
   "metadata": {},
   "outputs": [],
   "source": [
    "import torch \n",
    "import numpy as np\n",
    "import pandas as pd"
   ]
  },
  {
   "cell_type": "code",
   "execution_count": 2,
   "metadata": {},
   "outputs": [],
   "source": [
    "inputs1 = torch.tensor(\n",
    "    [[1, 2, 3, 2.5],\n",
    "     [2.0, 5.0, -1.0, 2.0],\n",
    "     [-1.5, 2.7, 3.3, -0.8]],\n",
    "    dtype=torch.float32\n",
    ")\n",
    "\n",
    "weights1 = torch.tensor(\n",
    "    [[0.2, 0.8, -0.5, 1.0],\n",
    "    [0.5, -0.91, 0.26, -0.5],\n",
    "    [-0.26, -0.27, 0.17, 0.87]],\n",
    "    dtype=torch.float32\n",
    ")\n",
    "\n",
    "biases1 = torch.tensor(\n",
    "    [2.0,3.0,0.5],\n",
    "    dtype=torch.float32\n",
    ")"
   ]
  },
  {
   "cell_type": "code",
   "execution_count": 3,
   "metadata": {},
   "outputs": [
    {
     "data": {
      "text/plain": [
       "[[4.80000002682209, 1.209999918937683, 2.385000005364418],\n",
       " [8.90000006556511, -1.8100001215934753, 0.19999997317790985],\n",
       " [1.410000077784062, 1.0509998478889457, 0.025999927461146655]]"
      ]
     },
     "execution_count": 3,
     "metadata": {},
     "output_type": "execute_result"
    }
   ],
   "source": [
    "def layer(inputs:list, weights:list, biases:list) -> list:\n",
    "    \"\"\"Pure python NN Layer\n",
    "\n",
    "    Args:\n",
    "        inputs (list): inputs from previous layer\n",
    "        weights (list): weights of each neuron in layer\n",
    "        biases (list): biases of each neuron in layer\n",
    "\n",
    "    Returns:\n",
    "        list: output of each neuron in layer \n",
    "    \"\"\"\n",
    "    layer_outputs = []\n",
    "    for neuron_input in inputs:\n",
    "        neuron_output = []\n",
    "        for neuron_weights, neuron_bias in zip(weights, biases):\n",
    "            output_vals = 0\n",
    "            for n_input, weight in zip(neuron_input, neuron_weights):\n",
    "                output_vals += n_input*weight\n",
    "            output_vals += neuron_bias\n",
    "            neuron_output.append(output_vals)\n",
    "        layer_outputs.append(neuron_output)\n",
    "    return layer_outputs\n",
    "\n",
    "layer(inputs1.tolist(), weights1.tolist(), biases1.tolist())"
   ]
  },
  {
   "cell_type": "code",
   "execution_count": 4,
   "metadata": {},
   "outputs": [],
   "source": [
    "def layer_vec(inputs:torch.tensor, weights:torch.tensor, biases:torch.tensor):\n",
    "    \"\"\"\n",
    "        PyTorch vectorized NN Layer\n",
    "\n",
    "    Args:\n",
    "        inputs (torch.tensor): inputs from previous layer\n",
    "        weights (torch.tensor): weights of each neuron in layer\n",
    "        biases (torch.tensor): biases of each neuron in layer\n",
    "\n",
    "    Returns:\n",
    "        torch.tensor: output of each neuron in layer \n",
    "    \"\"\"\n",
    "    cummulative = torch.matmul(inputs, weights.T) + biases\n",
    "    return cummulative"
   ]
  },
  {
   "cell_type": "code",
   "execution_count": 5,
   "metadata": {},
   "outputs": [],
   "source": [
    "output1 = layer_vec(inputs1, weights1, biases1)"
   ]
  },
  {
   "cell_type": "markdown",
   "metadata": {},
   "source": [
    "# Multi layer implementation "
   ]
  },
  {
   "cell_type": "code",
   "execution_count": 6,
   "metadata": {},
   "outputs": [],
   "source": [
    "X = torch.tensor(\n",
    "    [[1, 2, 3, 2.5],\n",
    "     [2.0, 5.0, -1.0, 2.0],\n",
    "     [-1.5, 2.7, 3.3, -0.8]],\n",
    "    dtype=torch.float32\n",
    ")\n",
    "\n",
    "class Layer_Dense:\n",
    "    \"\"\" \n",
    "        PyTorch Vectorized Dense Layer \n",
    "    \"\"\"\n",
    "    def __init__(self, n_inputs:int, n_neurons:int):\n",
    "        self.weights = torch.randn(n_inputs, n_neurons)\n",
    "        self.biases = torch.zeros((1, n_neurons))\n",
    "    def forward(self, inputs:torch.tensor):\n",
    "        self.output = torch.matmul(inputs, self.weights) + self.biases"
   ]
  },
  {
   "cell_type": "code",
   "execution_count": 7,
   "metadata": {},
   "outputs": [],
   "source": [
    "L1 = Layer_Dense(4, 5)\n",
    "L2 = Layer_Dense(5, 2)"
   ]
  },
  {
   "cell_type": "code",
   "execution_count": 8,
   "metadata": {},
   "outputs": [
    {
     "name": "stdout",
     "output_type": "stream",
     "text": [
      "tensor([[ 6.4426, -3.8641,  3.7323,  2.1708,  0.7507],\n",
      "        [ 9.5928,  1.7345, -3.8177, -2.4900, -1.9788],\n",
      "        [-1.4131, -4.1865,  2.1101,  6.3641, -0.3431]])\n",
      "tensor([[ -5.2781,  -4.2417],\n",
      "        [ -4.9018, -14.8873],\n",
      "        [  9.1477,   8.8205]])\n"
     ]
    }
   ],
   "source": [
    "L1.forward(X)\n",
    "print(L1.output)\n",
    "L2.forward(L1.output)\n",
    "print(L2.output)"
   ]
  },
  {
   "cell_type": "code",
   "execution_count": 9,
   "metadata": {},
   "outputs": [
    {
     "name": "stdout",
     "output_type": "stream",
     "text": [
      "Input shape:[3, 4] --L1[4,5]--> [3, 5]\n",
      "Input shape:[3, 5] --L2[5,2]--> [3, 2]\n"
     ]
    }
   ],
   "source": [
    "X.shape, L1.output.shape, L2.output.shape\n",
    "print(f\"Input shape:{list(X.shape)} --L1[4,5]--> {list(L1.output.shape)}\")\n",
    "print(f\"Input shape:{list(L1.output.shape)} --L2[5,2]--> {list(L2.output.shape)}\")"
   ]
  },
  {
   "cell_type": "markdown",
   "metadata": {},
   "source": [
    "# Adding activation functions"
   ]
  },
  {
   "cell_type": "code",
   "execution_count": 10,
   "metadata": {},
   "outputs": [],
   "source": [
    "class Activation:\n",
    "    \"\"\"\n",
    "        PyTorch Vectorized Activation functions class\n",
    "    \"\"\"\n",
    "    def __init__(self, name:str):\n",
    "        if not hasattr(self, name):\n",
    "            raise ValueError(f\"Activation {name} is not defined.\")\n",
    "        self.activation = getattr(self, name)\n",
    "    def ReLU(self, X:torch.tensor) -> torch.tensor:\n",
    "        return torch.maximum(torch.zeros_like(X), X)\n",
    "\n",
    "    def sigmoid(self, X:torch.tensor) -> torch.tensor:\n",
    "        return 1/(1-torch.exp(-1*X))\n",
    "\n",
    "    def LeakyReLU(self, X:torch.tensor) -> torch.tensor:\n",
    "        return torch.maximum(0.01*X, X)\n",
    "    \n",
    "    def Linear(self, X:torch.tensor) -> torch.tensor:\n",
    "        return X\n",
    "    \n",
    "    def Softmax(self, X:torch.tensor) -> torch.tensor:\n",
    "         exp_vals = torch.exp(X - torch.max(X, dim=1, keepdims=True))\n",
    "         return exp_vals / torch.sum(exp_vals, dim=1, keepdims=True)"
   ]
  },
  {
   "cell_type": "code",
   "execution_count": 11,
   "metadata": {},
   "outputs": [],
   "source": [
    "from typing import Optional\n",
    "\n",
    "class Linear:\n",
    "    def forward(self, X:torch.tensor) -> torch.tensor:\n",
    "        return X\n",
    "\n",
    "class Sigmoid:\n",
    "     def forward(self, X:torch.tensor) -> torch.tensor:\n",
    "        self.output = 1/(1-torch.exp(-1*X))\n",
    "\n",
    "class ReLU:\n",
    "    def forward(self, X:torch.tensor):\n",
    "        self.output = torch.maximum(torch.zeros_like(X), X)\n",
    "        \n",
    "class LeakyReLU:\n",
    "    def forward(self, X:torch.tensor) -> torch.tensor:\n",
    "        return torch.maximum(0.01*X, X)\n",
    "\n",
    "class Softmax:\n",
    "    __constants__ = ['dim']\n",
    "    dim: Optional[int]\n",
    "\n",
    "    def __init__(self, dim:int):\n",
    "        self.dim = dim\n",
    "    \n",
    "    def forward(self, X: torch.tensor) -> torch.tensor:\n",
    "        exp_vals = torch.exp(X - torch.max(X, dim=self.dim, keepdims=True))\n",
    "        return exp_vals / torch.sum(exp_vals, dim=self.dim, keepdims=True)"
   ]
  },
  {
   "cell_type": "code",
   "execution_count": 12,
   "metadata": {},
   "outputs": [],
   "source": [
    "class Layer_Dense_act:\n",
    "    \"\"\" \n",
    "        PyTorch Vectorized Dense Layer with activation functions\n",
    "    \"\"\"\n",
    "    def __init__(self, n_inputs:int, n_neurons:int, activation_name:str):\n",
    "        self.weights = torch.randn(n_inputs, n_neurons) \n",
    "        self.biases = torch.zeros((1, n_neurons))\n",
    "        self.activation = Activation(activation_name).activation\n",
    "    def forward(self, inputs:torch.tensor):\n",
    "        self.output = self.activation(\n",
    "            torch.matmul(inputs, self.weights) + self.biases\n",
    "            )"
   ]
  },
  {
   "cell_type": "code",
   "execution_count": 13,
   "metadata": {},
   "outputs": [
    {
     "data": {
      "text/plain": [
       "<function matplotlib.pyplot.show(close=None, block=None)>"
      ]
     },
     "execution_count": 13,
     "metadata": {},
     "output_type": "execute_result"
    },
    {
     "data": {
      "image/png": "[encoded data removed]",
      "text/plain": [
       "<Figure size 640x480 with 1 Axes>"
      ]
     },
     "metadata": {},
     "output_type": "display_data"
    }
   ],
   "source": [
    "!pip install -qU nnfs\n",
    "from nnfs.datasets import spiral_data\n",
    "\n",
    "from matplotlib import pyplot as plt\n",
    "torch.random.seed()\n",
    "X,y = spiral_data(100,3)\n",
    "X,y = torch.tensor(X, dtype=torch.float32), torch.tensor(y, dtype=torch.float32)\n",
    "plt.scatter(X[:,0], X[:,1])\n",
    "plt.show"
   ]
  },
  {
   "cell_type": "code",
   "execution_count": 14,
   "metadata": {},
   "outputs": [],
   "source": [
    "class Activation_ReLU:\n",
    "    def forward(self, inputs:torch.tensor):\n",
    "        print(type(inputs))\n",
    "        self.output = torch.maximum(torch.zeros_like(inputs), inputs)"
   ]
  },
  {
   "cell_type": "code",
   "execution_count": 15,
   "metadata": {},
   "outputs": [
    {
     "name": "stdout",
     "output_type": "stream",
     "text": [
      "<class 'torch.Tensor'>\n",
      "tensor([[ 0.0000e+00,  0.0000e+00,  0.0000e+00,  0.0000e+00,  0.0000e+00],\n",
      "        [ 4.9464e-03,  1.3901e-03,  1.7662e-02,  1.1031e-02,  3.6635e-04],\n",
      "        [ 9.8104e-03,  3.7589e-03,  3.4410e-02,  2.2141e-02,  1.1853e-03],\n",
      "        ...,\n",
      "        [ 7.2081e-02, -7.6895e-01,  7.4565e-01, -4.6408e-02, -3.5602e-01],\n",
      "        [ 2.9825e-01, -5.9483e-01,  1.4848e+00,  4.8700e-01, -2.8865e-01],\n",
      "        [-1.4058e-01, -7.8414e-01, -4.1269e-02, -5.0896e-01, -3.5136e-01]])\n",
      "tensor([[0.0000e+00, 0.0000e+00, 0.0000e+00, 0.0000e+00, 0.0000e+00],\n",
      "        [4.9464e-03, 1.3901e-03, 1.7662e-02, 1.1031e-02, 3.6635e-04],\n",
      "        [9.8104e-03, 3.7589e-03, 3.4410e-02, 2.2141e-02, 1.1853e-03],\n",
      "        ...,\n",
      "        [7.2081e-02, 0.0000e+00, 7.4565e-01, 0.0000e+00, 0.0000e+00],\n",
      "        [2.9825e-01, 0.0000e+00, 1.4848e+00, 4.8700e-01, 0.0000e+00],\n",
      "        [0.0000e+00, 0.0000e+00, 0.0000e+00, 0.0000e+00, 0.0000e+00]])\n"
     ]
    }
   ],
   "source": [
    "L1 = Layer_Dense(2, 5)\n",
    "activation1 = Activation_ReLU()\n",
    "L1.forward(X)\n",
    "activation1.forward(L1.output)\n",
    "print(L1.output)\n",
    "print(activation1.output)"
   ]
  },
  {
   "cell_type": "code",
   "execution_count": 16,
   "metadata": {},
   "outputs": [
    {
     "name": "stdout",
     "output_type": "stream",
     "text": [
      "tensor([[ 0.0000e+00,  0.0000e+00,  0.0000e+00,  0.0000e+00,  0.0000e+00],\n",
      "        [-1.3565e-02, -1.9179e-02,  5.4510e-03, -3.6587e-03,  1.7332e-03],\n",
      "        [-2.5811e-02, -3.6944e-02,  8.5550e-03, -9.3474e-03,  4.2756e-03],\n",
      "        ...,\n",
      "        [-1.0592e+00, -1.1426e+00,  1.8570e+00,  1.5939e+00, -6.3490e-01],\n",
      "        [-1.5587e+00, -1.8987e+00,  1.8572e+00,  1.1959e+00, -4.6317e-01],\n",
      "        [-4.2728e-01, -2.6927e-01,  1.5222e+00,  1.6582e+00, -6.7212e-01]])\n",
      "tensor([[0.0000, 0.0000, 0.0000, 0.0000, 0.0000],\n",
      "        [0.0123, 0.0000, 0.0000, 0.0030, 0.0264],\n",
      "        [0.0244, 0.0000, 0.0000, 0.0062, 0.0508],\n",
      "        ...,\n",
      "        [0.1365, 0.0000, 0.0000, 0.0000, 1.5854],\n",
      "        [0.7032, 0.0000, 0.0000, 0.0698, 2.6236],\n",
      "        [0.0000, 0.0000, 0.1500, 0.0000, 0.3833]])\n"
     ]
    }
   ],
   "source": [
    "L0 = Layer_Dense_act(2, 5, 'Linear')\n",
    "L0.forward(X)\n",
    "print(L0.output)\n",
    "L1 = Layer_Dense_act(2, 5, 'ReLU')\n",
    "L1.forward(X)\n",
    "print(L1.output)"
   ]
  },
  {
   "cell_type": "markdown",
   "metadata": {},
   "source": [
    "### Note: The values for both functions are different due to the random initilalization of weights\n",
    "I have validated this by initializing weights with 1 and noting that the values were the same\n",
    "going hence forth my way of implementing activation functions will be used"
   ]
  },
  {
   "cell_type": "code",
   "execution_count": null,
   "metadata": {},
   "outputs": [],
   "source": []
  }
 ],
 "metadata": {
  "kernelspec": {
   "display_name": "torch-3-12",
   "language": "python",
   "name": "python3"
  },
  "language_info": {
   "codemirror_mode": {
    "name": "ipython",
    "version": 3
   },
   "file_extension": ".py",
   "mimetype": "text/x-python",
   "name": "python",
   "nbconvert_exporter": "python",
   "pygments_lexer": "ipython3",
   "version": "3.12.2"
  }
 },
 "nbformat": 4,
 "nbformat_minor": 2
}
